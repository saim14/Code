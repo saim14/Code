{
 "cells": [
  {
   "cell_type": "markdown",
   "metadata": {},
   "source": [
    "# Algorithm Analysis for Breathing Practices"
   ]
  },
  {
   "cell_type": "markdown",
   "metadata": {},
   "source": [
    "## Examples of Iterative Algorithm"
   ]
  },
  {
   "cell_type": "markdown",
   "metadata": {},
   "source": [
    "### O(n)"
   ]
  },
  {
   "cell_type": "code",
   "execution_count": 2,
   "metadata": {},
   "outputs": [
    {
     "name": "stdout",
     "output_type": "stream",
     "text": [
      "0\n",
      "1\n",
      "2\n",
      "3\n",
      "4\n",
      "5\n",
      "6\n",
      "7\n",
      "8\n",
      "9\n"
     ]
    }
   ],
   "source": [
    "# 0001\n",
    "def A(n):\n",
    "    for i in range(n):\n",
    "        print(i)\n",
    "A(10)"
   ]
  },
  {
   "cell_type": "markdown",
   "metadata": {},
   "source": [
    "Print statement run 10 times = n. Time complexity O(n)"
   ]
  },
  {
   "cell_type": "markdown",
   "metadata": {},
   "source": [
    "### O(sqrt(n))"
   ]
  },
  {
   "cell_type": "code",
   "execution_count": 18,
   "metadata": {},
   "outputs": [
    {
     "data": {
      "text/plain": [
       "12"
      ]
     },
     "execution_count": 18,
     "metadata": {},
     "output_type": "execute_result"
    }
   ],
   "source": [
    "# 002\n",
    "def A(n):\n",
    "    t = 1\n",
    "    s = 1\n",
    "    i = 1\n",
    "    T = []\n",
    "    while(s <= n):\n",
    "        T.append(t)\n",
    "        i+=1\n",
    "        s = s+i\n",
    "        t+=1\n",
    "    return len(T)\n",
    "A(81)"
   ]
  },
  {
   "cell_type": "code",
   "execution_count": 23,
   "metadata": {},
   "outputs": [
    {
     "data": {
      "text/plain": [
       "5"
      ]
     },
     "execution_count": 23,
     "metadata": {},
     "output_type": "execute_result"
    }
   ],
   "source": [
    "a = A(16)\n",
    "a"
   ]
  },
  {
   "cell_type": "code",
   "execution_count": 24,
   "metadata": {},
   "outputs": [
    {
     "data": {
      "text/plain": [
       "[1, 1, 2, 2, 2, 3, 3, 3, 3, 4, 4, 4, 4, 4, 5, 5, 5, 5, 5, 5, 6, 6, 6, 6]"
      ]
     },
     "execution_count": 24,
     "metadata": {},
     "output_type": "execute_result"
    }
   ],
   "source": [
    "a = [1,2,3,4,5,6,7,8,9,10,11,12,13,14,15,16,17,18,19,20,21,22,23,24]\n",
    "b = []\n",
    "for i in a:\n",
    "    b.append(A(i))\n",
    "\n",
    "b"
   ]
  },
  {
   "cell_type": "code",
   "execution_count": 25,
   "metadata": {},
   "outputs": [
    {
     "data": {
      "text/plain": [
       "(24, 24)"
      ]
     },
     "execution_count": 25,
     "metadata": {},
     "output_type": "execute_result"
    }
   ],
   "source": [
    "len(a), len(b)"
   ]
  },
  {
   "cell_type": "code",
   "execution_count": 27,
   "metadata": {},
   "outputs": [],
   "source": [
    "import matplotlib.pyplot as plt\n",
    "import numpy as np\n",
    "import pandas as pd"
   ]
  },
  {
   "cell_type": "code",
   "execution_count": 28,
   "metadata": {},
   "outputs": [
    {
     "data": {
      "image/png": "[encoded data removed]",
      "text/plain": [
       "<Figure size 640x480 with 1 Axes>"
      ]
     },
     "metadata": {},
     "output_type": "display_data"
    }
   ],
   "source": [
    "# Plotting the line plot\n",
    "plt.plot(a, b, marker='o')\n",
    "\n",
    "# Adding labels and title\n",
    "plt.xlabel('List a')\n",
    "plt.ylabel('List b')\n",
    "plt.title('Line Plot of a vs b')\n",
    "\n",
    "# Show grid (optional)\n",
    "plt.grid(True)\n",
    "\n",
    "# Display the plot\n",
    "plt.show()"
   ]
  },
  {
   "cell_type": "markdown",
   "metadata": {},
   "source": [
    "<b>https://chatgpt.com/share/08393431-dc35-4fdd-9b9f-b1b7af9d0466</b>"
   ]
  },
  {
   "cell_type": "markdown",
   "metadata": {},
   "source": [
    "### 007"
   ]
  },
  {
   "cell_type": "code",
   "execution_count": 31,
   "metadata": {},
   "outputs": [
    {
     "name": "stdout",
     "output_type": "stream",
     "text": [
      "007\n",
      "007\n",
      "007\n",
      "007\n",
      "007\n",
      "007\n",
      "007\n",
      "007\n",
      "007\n",
      "007\n",
      "007\n",
      "007\n",
      "007\n",
      "007\n",
      "007\n",
      "007\n",
      "007\n",
      "007\n",
      "007\n",
      "007\n",
      "007\n",
      "007\n",
      "007\n",
      "007\n",
      "007\n",
      "007\n",
      "007\n",
      "007\n",
      "007\n",
      "007\n",
      "007\n",
      "007\n",
      "007\n",
      "007\n",
      "007\n",
      "007\n",
      "007\n",
      "007\n",
      "007\n",
      "007\n",
      "007\n",
      "007\n",
      "007\n",
      "007\n",
      "007\n",
      "007\n",
      "007\n",
      "007\n",
      "007\n",
      "007\n",
      "007\n",
      "007\n",
      "007\n",
      "007\n",
      "007\n",
      "007\n",
      "007\n",
      "007\n",
      "007\n",
      "007\n",
      "007\n",
      "007\n",
      "007\n",
      "007\n",
      "007\n",
      "007\n",
      "007\n",
      "007\n",
      "007\n",
      "007\n",
      "007\n",
      "007\n",
      "007\n",
      "007\n",
      "007\n",
      "007\n",
      "007\n",
      "007\n",
      "007\n",
      "007\n",
      "007\n",
      "007\n",
      "007\n",
      "007\n",
      "007\n",
      "007\n",
      "007\n",
      "007\n",
      "007\n",
      "007\n",
      "007\n",
      "007\n",
      "007\n",
      "007\n",
      "007\n",
      "007\n",
      "007\n",
      "007\n",
      "007\n",
      "007\n",
      "007\n",
      "007\n",
      "007\n",
      "007\n",
      "007\n",
      "007\n",
      "007\n",
      "007\n",
      "007\n",
      "007\n",
      "007\n",
      "007\n",
      "007\n",
      "007\n",
      "007\n",
      "007\n",
      "007\n",
      "007\n",
      "007\n",
      "007\n"
     ]
    }
   ],
   "source": [
    "def A(n):\n",
    "    for i in range(n//2, n+1):\n",
    "        for j in range(1, n//2):\n",
    "            for k in range(1, n+1, 2):\n",
    "                print(\"007\")\n",
    "A(10)"
   ]
  },
  {
   "cell_type": "code",
   "execution_count": 2,
   "metadata": {},
   "outputs": [
    {
     "data": {
      "image/png": "[encoded data removed]",
      "text/plain": [
       "<Figure size 1000x600 with 1 Axes>"
      ]
     },
     "metadata": {},
     "output_type": "display_data"
    }
   ],
   "source": [
    "import matplotlib.pyplot as plt\n",
    "\n",
    "# Time periods and approximate growth rates for Non-Religion\n",
    "time_periods = [\n",
    "    600, 700, 800, 900,\n",
    "    1000, 1100, 1200, 1300,\n",
    "    1400, 1500, 1600, 1700,\n",
    "    1800\n",
    "]\n",
    "growth_rates_non_religion = [\n",
    "    1, 1, 1, 1,\n",
    "    1, 1, 2, 3,\n",
    "    5, 10, 15, 25,\n",
    "    50\n",
    "]\n",
    "\n",
    "# Plotting the line chart for Non-Religion\n",
    "plt.figure(figsize=(10, 6))\n",
    "plt.plot(time_periods, growth_rates_non_religion, marker='o', linestyle='-', color='red')\n",
    "\n",
    "# Adding titles and labels\n",
    "plt.title('Approximate Growth Rate of Non-Religion (600 AD - 2000 AD)')\n",
    "plt.xlabel('Time Period (AD)')\n",
    "plt.ylabel('Growth Rate (%)')\n",
    "plt.grid(True)\n",
    "plt.xticks(rotation=45)\n",
    "plt.tight_layout()\n",
    "\n",
    "# Display the chart\n",
    "plt.show()\n"
   ]
  }
 ],
 "metadata": {
  "kernelspec": {
   "display_name": "Python 3",
   "language": "python",
   "name": "python3"
  },
  "language_info": {
   "codemirror_mode": {
    "name": "ipython",
    "version": 3
   },
   "file_extension": ".py",
   "mimetype": "text/x-python",
   "name": "python",
   "nbconvert_exporter": "python",
   "pygments_lexer": "ipython3",
   "version": "3.12.3"
  }
 },
 "nbformat": 4,
 "nbformat_minor": 2
}
